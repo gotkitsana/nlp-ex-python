{
  "nbformat": 4,
  "nbformat_minor": 0,
  "metadata": {
    "colab": {
      "provenance": [],
      "toc_visible": true,
      "authorship_tag": "ABX9TyOEGD6icxkyIUo8u++uq/s1",
      "include_colab_link": true
    },
    "kernelspec": {
      "name": "python3",
      "display_name": "Python 3"
    },
    "language_info": {
      "name": "python"
    }
  },
  "cells": [
    {
      "cell_type": "markdown",
      "metadata": {
        "id": "view-in-github",
        "colab_type": "text"
      },
      "source": [
        "<a href=\"https://colab.research.google.com/github/gotkitsana/nlp-ex-python/blob/main/nlp_Tokenisation_PyThaiNLP.ipynb\" target=\"_parent\"><img src=\"https://colab.research.google.com/assets/colab-badge.svg\" alt=\"Open In Colab\"/></a>"
      ]
    },
    {
      "cell_type": "markdown",
      "source": [
        "# PyThaiNLP"
      ],
      "metadata": {
        "id": "3W-1V8TiqAPg"
      }
    },
    {
      "cell_type": "code",
      "execution_count": null,
      "metadata": {
        "id": "sqJG-Eq7pwp4"
      },
      "outputs": [],
      "source": [
        "!pip install pythainlp[full]"
      ]
    },
    {
      "cell_type": "code",
      "source": [
        "!pip install deepcut"
      ],
      "metadata": {
        "id": "L7loDIoLqO0u"
      },
      "execution_count": null,
      "outputs": []
    },
    {
      "cell_type": "code",
      "source": [
        "from pythainlp import word_tokenize"
      ],
      "metadata": {
        "id": "wtpXtuZNqR1F"
      },
      "execution_count": 7,
      "outputs": []
    },
    {
      "cell_type": "code",
      "source": [
        "text = \"ฮวงจุ้ยฮองเฮา เอ็กซ์เพรสโปรเจ็กต์ฟลอร์ไฟแนนซ์ป๊อป    บาลานซ์โรแมนติกตี๋ซีเรียสโคโยตี้  \""
      ],
      "metadata": {
        "id": "Ca33Aw_zqZCn"
      },
      "execution_count": 8,
      "outputs": []
    },
    {
      "cell_type": "code",
      "source": [
        "print(word_tokenize(text, engine=\"longest\"))\n",
        "print(word_tokenize(text, engine=\"mm\"))\n",
        "print(word_tokenize(text, engine=\"newmm\"))\n",
        "print(word_tokenize(text, engine=\"newmm-safe\"))\n",
        "print(word_tokenize(text, engine=\"icu\"))"
      ],
      "metadata": {
        "colab": {
          "base_uri": "https://localhost:8080/"
        },
        "id": "kXEOjle6rmyF",
        "outputId": "daf377fe-9a6e-4814-8816-a65da869b145"
      },
      "execution_count": 9,
      "outputs": [
        {
          "output_type": "stream",
          "name": "stdout",
          "text": [
            "['ฮวงจุ้ย', 'ฮองเฮา', ' ', 'เอ็กซ์เพรส', 'โปรเจ็กต์', 'ฟลอร์', 'ไฟแนนซ์', 'ป๊อป', ' ', ' ', ' ', ' ', 'บาลานซ์', 'โรแมนติก', 'ตี๋', 'ซีเรียส', 'โคโยตี้', ' ', ' ']\n",
            "['ฮวงจุ้ย', 'ฮองเฮา', ' ', 'เอ็กซ์เพรส', 'โปรเจ็กต์', 'ฟลอร์', 'ไฟแนนซ์', 'ป๊อป', '    ', 'บาลานซ์', 'โรแมนติก', 'ตี๋', 'ซีเรียส', 'โคโยตี้', '  ']\n",
            "['ฮวงจุ้ย', 'ฮองเฮา', ' ', 'เอ็กซ์เพรส', 'โปรเจ็กต์', 'ฟลอร์', 'ไฟแนนซ์', 'ป๊อป', '    ', 'บาลานซ์', 'โรแมนติก', 'ตี๋', 'ซีเรียส', 'โคโยตี้', '  ']\n",
            "['ฮวงจุ้ย', 'ฮองเฮา', ' ', 'เอ็กซ์เพรส', 'โปรเจ็กต์', 'ฟลอร์', 'ไฟแนนซ์', 'ป๊อป', '    ', 'บาลานซ์', 'โรแมนติก', 'ตี๋', 'ซีเรียส', 'โคโยตี้', '  ']\n",
            "['ฮ', 'วง', 'จุ้ย', 'ฮองเฮา', ' ', 'เอ็กซ์เพรส', 'โปร', 'เจ็กต์', 'ฟลอร์', 'ไฟแนนซ์', 'ป๊อป', ' ', ' ', ' ', ' ', 'บาลานซ์', 'โร', 'แมน', 'ติก', 'ตี๋', 'ซีเรียส', 'โค', 'โย', 'ตี้', ' ', ' ']\n"
          ]
        }
      ]
    },
    {
      "cell_type": "code",
      "source": [
        "print(word_tokenize(text, engine=\"deepcut\"))\n",
        "print(word_tokenize(text, engine=\"attacut\"))"
      ],
      "metadata": {
        "colab": {
          "base_uri": "https://localhost:8080/"
        },
        "id": "ZKUQ_9hStXQD",
        "outputId": "5c8ed78b-ca18-4f54-ea40-689c2e5568cc"
      },
      "execution_count": 10,
      "outputs": [
        {
          "output_type": "stream",
          "name": "stdout",
          "text": [
            "3/3 [==============================] - 1s 43ms/step\n",
            "['ฮวงจุ้ยฮองเฮา เอ็กซ์เพรสโปรเจ็กต์', 'ฟลอร์ไฟแนนซ์ป๊อป', ' ', ' ', ' ', ' ', 'บาลานซ์', 'โรแมนติกตี๋', 'ซีเรียสโคโยตี้', ' ', ' ']\n",
            "['ฮวงจุ้ยฮองเฮา', ' เอ็กซ์เพรส', 'โปรเจ็กต์', 'ฟลอร์', 'ไฟแนนซ์', 'ป๊อป', '    ', 'บาลานซ์โรแมนติกตี๋', 'ซีเรียส', 'โคโยตี้', ' ', ' ']\n"
          ]
        }
      ]
    }
  ]
}